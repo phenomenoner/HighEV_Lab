{
 "cells": [
  {
   "cell_type": "markdown",
   "id": "d5ab13d7-aaa4-4762-a65c-98b3f1cd067e",
   "metadata": {
    "jp-MarkdownHeadingCollapsed": true
   },
   "source": [
    "# EMA-BBP-RSI Strategy for Taiwnese Stock Market Day Trading"
   ]
  },
  {
   "cell_type": "markdown",
   "id": "ff8a24e0-e153-4449-86d0-8d9946d21db5",
   "metadata": {},
   "source": [
    "# Data Setup"
   ]
  },
  {
   "cell_type": "code",
   "execution_count": 112,
   "id": "e8ea9b3f-0ca2-4e07-8ae7-0a025464b82b",
   "metadata": {},
   "outputs": [],
   "source": [
    "import pandas as pd\n",
    "import pandas_ta as ta\n",
    "import numpy as np\n",
    "from tqdm.notebook import tqdm"
   ]
  },
  {
   "cell_type": "code",
   "execution_count": 180,
   "id": "c9174797-78cd-470b-8574-078845726823",
   "metadata": {},
   "outputs": [],
   "source": [
    "data_filepath = 'data/data.feather'\n",
    "data_df = pd.read_feather(data_filepath)"
   ]
  },
  {
   "cell_type": "code",
   "execution_count": 181,
   "id": "64f805ef-21ae-46bd-ae5f-39b528373a63",
   "metadata": {
    "scrolled": true
   },
   "outputs": [
    {
     "data": {
      "application/vnd.jupyter.widget-view+json": {
       "model_id": "e84b7f27e7a74d6f88a6ab7205c5168d",
       "version_major": 2,
       "version_minor": 0
      },
      "text/plain": [
       "  0%|          | 0/1796 [00:00<?, ?it/s]"
      ]
     },
     "metadata": {},
     "output_type": "display_data"
    }
   ],
   "source": [
    "bbands_length = 20\n",
    "bbands_std = 2.5\n",
    "ema_length = 200\n",
    "ema_volumne_length = 20\n",
    "rsi_length = 2\n",
    "\n",
    "# Dictionary to collect computed results\n",
    "results = {}\n",
    "\n",
    "# Function to compute indicators for a given symbol\n",
    "def compute_indicators(symbol):\n",
    "    # Slice the dataframe once for the symbol\n",
    "    df_symbol = data_df.xs(symbol, axis=1, level=1, drop_level=True)\n",
    "\n",
    "    # Calculate returns\n",
    "    adj_close = df_symbol['Adj Close']\n",
    "    open_price = df_symbol['Open']\n",
    "    close = df_symbol['Close']\n",
    "    adj_open = (open_price / close) * adj_close\n",
    "    rtns = 100 * (adj_close - adj_open) / adj_open\n",
    "    targets = 100 * (adj_close - adj_close.shift(1)) / adj_close.shift(1)\n",
    "    gap = 100 * (adj_open - adj_close.shift(1)) / adj_close.shift(1)\n",
    "    \n",
    "    # Compute TAs\n",
    "    rsi= df_symbol.ta.rsi(length=rsi_length)\n",
    "    results[(f'i_RSI_{rsi_length}', symbol)] = rsi\n",
    "    \n",
    "    ema = df_symbol.ta.ema(length=ema_length)\n",
    "    results[(f'i_EMA_{ema_length}', symbol)] = ema\n",
    "\n",
    "    bbands = df_symbol.ta.bbands(length=bbands_length, std=bbands_std)\n",
    "    results[(f'i_BBP_{bbands_length}_{bbands_std}', symbol)] = bbands[f'BBP_{bbands_length}_{bbands_std}']\n",
    "\n",
    "    ema_volume = df_symbol.ta.ema(close='Volume', length=ema_volumne_length)\n",
    "    results[(f'i_EMA_Volume_{ema_volumne_length}', symbol)] = ema_volume\n",
    "\n",
    "    # Update the results\n",
    "    results[(f\"returns\", symbol)] = rtns\n",
    "    results[(f\"targets\", symbol)] = targets\n",
    "    results[(f\"gap\", symbol)] = gap\n",
    "\n",
    "symbols = data_df.columns.get_level_values(1).unique()\n",
    "\n",
    "for s in tqdm(symbols):\n",
    "    compute_indicators(s)"
   ]
  },
  {
   "cell_type": "code",
   "execution_count": 182,
   "id": "e4c53ac7-f461-477c-890c-d8eaf9801f8d",
   "metadata": {},
   "outputs": [],
   "source": [
    "# Concatenate the original DataFrame with the computed results\n",
    "data_df = pd.concat([data_df, pd.DataFrame(results)], axis=1)"
   ]
  },
  {
   "cell_type": "code",
   "execution_count": 183,
   "id": "9e29981d-fe7a-4c75-a725-385f4d33da38",
   "metadata": {},
   "outputs": [
    {
     "data": {
      "text/plain": [
       "Index(['Adj Close', 'Close', 'High', 'Low', 'Open', 'Volume', 'i_RSI_2',\n",
       "       'i_EMA_200', 'i_BBP_20_2.5', 'i_EMA_Volume_20', 'returns', 'targets',\n",
       "       'gap'],\n",
       "      dtype='object')"
      ]
     },
     "execution_count": 183,
     "metadata": {},
     "output_type": "execute_result"
    }
   ],
   "source": [
    "data_df.xs('6570.TWO', axis=1, level=1).columns  # Inspect the result"
   ]
  },
  {
   "cell_type": "code",
   "execution_count": 184,
   "id": "4a6f51db-c2fa-461b-8fc0-720040d08cb3",
   "metadata": {},
   "outputs": [],
   "source": [
    "data_df = data_df.iloc[-1260:]"
   ]
  },
  {
   "cell_type": "markdown",
   "id": "3827e67a-f6eb-4679-ac88-8c9960b043b6",
   "metadata": {},
   "source": [
    "# Trading Strategy"
   ]
  },
  {
   "cell_type": "code",
   "execution_count": 185,
   "id": "7b535b36-00c5-4e56-8ee4-29e6684ef265",
   "metadata": {},
   "outputs": [
    {
     "data": {
      "application/vnd.jupyter.widget-view+json": {
       "model_id": "e9d88dbf3cc446d5a38c158e8610eb39",
       "version_major": 2,
       "version_minor": 0
      },
      "text/plain": [
       "  0%|          | 0/1796 [00:00<?, ?it/s]"
      ]
     },
     "metadata": {},
     "output_type": "display_data"
    }
   ],
   "source": [
    "# Dictionary to collect computed results\n",
    "results = {}\n",
    "\n",
    "def gen_strategy_signals(symbol):\n",
    "    # Slice the dataframe once for the symbol\n",
    "    df_symbol = data_df.xs(symbol, axis=1, level=1, drop_level=True)\n",
    "\n",
    "    signal_list = []\n",
    "    \n",
    "    for date in df_symbol.index:\n",
    "        high = df_symbol.loc[date, 'High']\n",
    "        low = df_symbol.loc[date, 'Low']\n",
    "        ema = df_symbol.loc[date, 'i_EMA_200']\n",
    "        bbp = df_symbol.loc[date, 'i_BBP_20_2.5']\n",
    "        rsi = df_symbol.loc[date, 'i_RSI_2']\n",
    "\n",
    "        if any(x is np.nan for x in [high, low, ema, bbp, rsi]):\n",
    "            signal_list.append(0)\n",
    "            continue\n",
    "            \n",
    "        position_mark = 0\n",
    "\n",
    "        if low > ema and bbp < 1 and rsi < 30:  # Long conditions\n",
    "            position_mark = 0\n",
    "        elif high < ema and bbp > 0 and rsi > 50:  # Short conditions\n",
    "            position_mark = -1\n",
    "\n",
    "        signal_list.append(position_mark)\n",
    "\n",
    "    # Update the results\n",
    "    results[(f\"signal\", symbol)] = pd.Series(signal_list, index=df_symbol.index).shift(1)\n",
    "\n",
    "# Proceed signal marking\n",
    "symbols = data_df.columns.get_level_values(1).unique()\n",
    "\n",
    "for s in tqdm(symbols):\n",
    "    gen_strategy_signals(s)"
   ]
  },
  {
   "cell_type": "code",
   "execution_count": 186,
   "id": "44d7b231-8fe6-414c-8a02-1340ac795d86",
   "metadata": {},
   "outputs": [],
   "source": [
    "# Concatenate the original DataFrame with the computed results\n",
    "data_df = pd.concat([data_df, pd.DataFrame(results)], axis=1)"
   ]
  },
  {
   "cell_type": "markdown",
   "id": "298251bd-873a-4d1e-9244-be639ad4b229",
   "metadata": {},
   "source": [
    "# Stock Selection"
   ]
  },
  {
   "cell_type": "markdown",
   "id": "19baf365-2613-4ec2-885d-f16c0e2e04c6",
   "metadata": {},
   "source": [
    "## Split and filter the data"
   ]
  },
  {
   "cell_type": "code",
   "execution_count": 187,
   "id": "6e34ee17-96e4-4c12-8ec3-1b0133a819c4",
   "metadata": {},
   "outputs": [],
   "source": [
    "def data_filtering(train, test, valid):\n",
    "    train_close = train['Close']\n",
    "    train_volume = train['Volume']\n",
    "    symbols = train_close.columns\n",
    "    \n",
    "    symbols_to_remove = []\n",
    "    \n",
    "    for symbol in symbols:\n",
    "        if train_close[symbol].isna().sum() > 252:\n",
    "            symbols_to_remove.append(symbol)\n",
    "\n",
    "    # filter the dfs\n",
    "    filtered_train = train.drop(columns=symbols_to_remove, level=1)\n",
    "    filtered_test = test.drop(columns=symbols_to_remove, level=1)\n",
    "    filtered_valid = valid.drop(columns=symbols_to_remove, level=1)\n",
    "\n",
    "    return filtered_train, filtered_test, filtered_valid \n",
    "\n",
    "# Split data_df into training and testing sets\n",
    "train_size = int(len(data_df) * 0.8)\n",
    "train_df = data_df.iloc[:train_size].copy()\n",
    "test_df = data_df.iloc[train_size:].copy()\n",
    "\n",
    "train_size = int(len(train_df) * 0.9)\n",
    "valid_df = train_df.iloc[train_size:].copy()\n",
    "train_df = train_df.iloc[:train_size].copy()\n",
    "\n",
    "# Apply the data_filtering function\n",
    "filtered_train_df, filtered_test_df, filtered_valid_df = data_filtering(train_df, test_df, valid_df)"
   ]
  },
  {
   "cell_type": "markdown",
   "id": "d5a748bd-d93f-48fe-bdda-c953d03477f9",
   "metadata": {},
   "source": [
    "## Refine the stock list"
   ]
  },
  {
   "cell_type": "code",
   "execution_count": 188,
   "id": "136107d0-8b4d-4c62-8fc0-61486820e916",
   "metadata": {},
   "outputs": [],
   "source": [
    "selected_symbols = filtered_train_df.columns.get_level_values(1).unique()\n",
    "df_index = filtered_train_df.index"
   ]
  },
  {
   "cell_type": "code",
   "execution_count": 189,
   "id": "7dd3e0c7-60a5-47e6-9657-12acb9eefbdc",
   "metadata": {
    "scrolled": true
   },
   "outputs": [],
   "source": [
    "# Dictionary to store the results\n",
    "stats_results = {}\n",
    "\n",
    "for symbol in selected_symbols:\n",
    "    # Extract features and target for the current stock\n",
    "    stock_data = data_df.xs(symbol, axis=1, level=1).loc[df_index].copy()\n",
    "\n",
    "    # Calculate mean and stdev\n",
    "    long_df = stock_data.loc[stock_data['signal'] == 1, 'targets']\n",
    "    mean_long = long_df.mean()\n",
    "    stdev_long = long_df.std()\n",
    "    \n",
    "    short_df = stock_data.loc[stock_data['signal'] == -1, 'targets']\n",
    "    mean_short = short_df.mean()\n",
    "    stdev_short = short_df.std()\n",
    "\n",
    "    avg_volume = stock_data.loc[stock_data.index[-1], f'i_EMA_Volume_{ema_volumne_length}'] / 1000\n",
    "    \n",
    "    # Store the results in the dictionary\n",
    "    stats_results[symbol] = {\n",
    "        'mean_long': mean_long,\n",
    "        'stdev_long': stdev_long,\n",
    "        'mean_short': mean_short,\n",
    "        'stdev_short': stdev_short,\n",
    "        'ratio_long': (mean_long / stdev_long) * avg_volume if len(long_df.index) >= 20 else np.nan,\n",
    "        'ratio_short': (mean_short / stdev_short) * avg_volume if len(short_df.index) >= 20 else np.nan,\n",
    "    }\n",
    "\n",
    "# Convert the results dictionary to a DataFrame for better visualization\n",
    "stats_df = pd.DataFrame(stats_results).T"
   ]
  },
  {
   "cell_type": "markdown",
   "id": "5f850be0-78b8-4fd6-b9d6-c88aa0f7c279",
   "metadata": {},
   "source": [
    "# Backtest"
   ]
  },
  {
   "cell_type": "markdown",
   "id": "44dac079-eb35-40a7-ab6f-c224ca6b4c42",
   "metadata": {},
   "source": [
    "## Apply stock selection"
   ]
  },
  {
   "cell_type": "code",
   "execution_count": 190,
   "id": "ec679862-dc6c-4242-b88d-7cfe015bbbcc",
   "metadata": {},
   "outputs": [
    {
     "name": "stdout",
     "output_type": "stream",
     "text": [
      "Size of the refined selected symbols: 170\n"
     ]
    }
   ],
   "source": [
    "percentile_threshold = 90\n",
    "\n",
    "long_ratio_values = [item['ratio_long'] for item in stats_results.values() if not np.isnan(item['ratio_long'])]\n",
    "short_ratio_values = [item['ratio_short'] for item in stats_results.values() if not np.isnan(item['ratio_short'])]\n",
    "\n",
    "top_percentile_long = np.percentile(long_ratio_values, percentile_threshold) if len(long_ratio_values) > 0 else np.nan\n",
    "top_percentile_short = np.percentile(short_ratio_values, (100 - percentile_threshold)) if len(short_ratio_values) > 0 else np.nan\n",
    "\n",
    "refined_selected_symbols = [s for s in selected_symbols \\\n",
    "                            if stats_results[s]['ratio_long'] > top_percentile_long or stats_results[s]['ratio_short'] < top_percentile_short]\n",
    "\n",
    "print(f'Size of the refined selected symbols: {len(refined_selected_symbols)}')"
   ]
  },
  {
   "cell_type": "markdown",
   "id": "e54c75b9-20ea-4193-84a3-6f41f9be6d68",
   "metadata": {},
   "source": [
    "## Doing test"
   ]
  },
  {
   "cell_type": "code",
   "execution_count": 191,
   "id": "010511b6-4b0b-45bc-877d-2ecc00004fb1",
   "metadata": {},
   "outputs": [],
   "source": [
    "# The df use for the test\n",
    "df = pd.concat([filtered_valid_df, filtered_test_df])\n",
    "\n",
    "# Initial conditions and parameters\n",
    "initial_capital = 1000000\n",
    "equity = initial_capital\n",
    "fund_available = equity\n",
    "fund_available_list = []\n",
    "equity_curve = [initial_capital]\n",
    "return_list = []\n",
    "pnl_list = []\n",
    "positions = {}  # Dictionary to track current positions\n",
    "commission_rate = 0.002  # 0.2%\n",
    "\n",
    "total_trade_value = 0\n",
    "total_trade_count = 0\n",
    "position_value_list = []\n",
    "position_share_list = []"
   ]
  },
  {
   "cell_type": "code",
   "execution_count": 192,
   "id": "1026e292-854a-4570-a7bd-1434afd91491",
   "metadata": {
    "scrolled": true
   },
   "outputs": [
    {
     "data": {
      "application/vnd.jupyter.widget-view+json": {
       "model_id": "5d362fa450774cdf845b2592dd68d790",
       "version_major": 2,
       "version_minor": 0
      },
      "text/plain": [
       "  0%|          | 0/353 [00:00<?, ?it/s]"
      ]
     },
     "metadata": {},
     "output_type": "display_data"
    }
   ],
   "source": [
    "import random\n",
    "\n",
    "for date in tqdm(df.index):\n",
    "\n",
    "    pnl = 0\n",
    "    fund_available = equity_curve[-1]\n",
    "    position_sizing = 0.3\n",
    "    residual_position_sizing = 0.3\n",
    "\n",
    "    # Randomize stock symbol list order\n",
    "    random.shuffle(refined_selected_symbols)\n",
    "        \n",
    "    # Loop through each stock\n",
    "    for symbol in refined_selected_symbols:        \n",
    "        # Get a rolling window of 2 rows (current and previous row) for the current date\n",
    "        stock_data = df.xs(symbol, axis=1, level=1).loc[date]\n",
    "        \n",
    "        if any(x is np.nan for x in [stock_data['Open'], stock_data['Close'], stock_data['Adj Close'], stock_data['signal']]):  # Check if data is available\n",
    "            continue\n",
    "\n",
    "        close = stock_data['Close']\n",
    "        open = stock_data['Open']\n",
    "        adj_close = stock_data['Adj Close']\n",
    "        adj_open = open * adj_close / close\n",
    "        action = stock_data['signal']\n",
    "\n",
    "        volume = stock_data['Volume']\n",
    "        \n",
    "        # Execute action\n",
    "        if abs(action) > 0:\n",
    "            trade_filter = ( stock_data['gap'] < -2 ) if action == 1 else ( 2 < stock_data['gap'] )\n",
    "            if trade_filter:        \n",
    "                trade_side = action\n",
    "                price = adj_open\n",
    "                \n",
    "                equity_adj = equity_curve[-1] / 1000  # 整張操作調整\n",
    "                fund_available_adj = fund_available / 1000  # 整張操作調整\n",
    "                \n",
    "                num_shares = int(equity_adj * position_sizing * (1 - commission_rate) / price)\n",
    "                num_shares_max = int(fund_available_adj * residual_position_sizing * (1 - commission_rate) / price)\n",
    "                num_shares = num_shares_max if num_shares > num_shares_max else num_shares\n",
    "\n",
    "                # 交易量擬真調整\n",
    "                num_share_volume_upper_bound = int((volume / 1000) / 10)\n",
    "                num_share_volume_upper_bound = max(1, num_share_volume_upper_bound) if volume > 1 else num_share_volume_upper_bound\n",
    "                if num_shares > num_share_volume_upper_bound:\n",
    "                    # print(f'Symbol {symbol}: num_shares {num_shares}, upper_bound {num_share_volume_upper_bound}, volume {volume / 1000:.0f}')\n",
    "                    num_shares = num_share_volume_upper_bound\n",
    "                \n",
    "                num_shares_adj = num_shares * 1000  # 整張操作調整\n",
    "                \n",
    "                if num_shares_adj > 0:\n",
    "                    trade_value = num_shares_adj * price\n",
    "                    total_trade_value += num_shares_adj * open\n",
    "                    pnl -= trade_side * trade_value * (1 + trade_side * commission_rate)\n",
    "                    fund_available -= trade_value * (1 + commission_rate)\n",
    "                    positions[symbol] = {'action': action, 'num_shares': num_shares_adj, 'entry_date': date, 'entry_pruice': price}\n",
    "\n",
    "                    position_value_list.append(num_shares_adj * open)\n",
    "                    position_share_list.append(num_shares_adj)\n",
    "        \n",
    "        # Close position (if any)\n",
    "        if symbol in positions:\n",
    "            days_held = (date - positions[symbol]['entry_date']).days\n",
    "            if days_held >= 0:\n",
    "                trade_side = -1 if positions[symbol]['action'] == 1 else 1\n",
    "                num_shares = positions[symbol]['num_shares']\n",
    "                trade_value = num_shares * adj_close\n",
    "                total_trade_value += num_shares * close\n",
    "                pnl -= trade_side * trade_value * (1 + trade_side * commission_rate)\n",
    "                del positions[symbol]  # Remove position\n",
    "                total_trade_count += 1\n",
    "                \n",
    "    # Calculate equity and daily return\n",
    "    equity = equity_curve[-1] + pnl\n",
    "    daily_return = (equity - equity_curve[-1]) / equity_curve[-1]\n",
    "    pnl_list.append(pnl)\n",
    "    fund_available_list.append(fund_available)\n",
    "    return_list.append(daily_return)\n",
    "    equity_curve.append(equity)"
   ]
  },
  {
   "cell_type": "markdown",
   "id": "dddf3150-ccdd-4f57-ad62-93b16f071ebb",
   "metadata": {},
   "source": [
    "## Performance metrics and statistics"
   ]
  },
  {
   "cell_type": "code",
   "execution_count": 193,
   "id": "196629d4-b10a-4731-9237-c8c78d2e872e",
   "metadata": {},
   "outputs": [
    {
     "name": "stdout",
     "output_type": "stream",
     "text": [
      "Period: 2022-05-04 - 2023-10-12, 353 trading days\n",
      "Initial Equity: $1000000\n",
      "Final Equity: $1455440\n",
      "Total Rate of Return: 45.54%\n",
      "Annualized Rate of Return: 30.72%\n",
      "Annualized Sharpe Ratio: 2.49\n",
      "Profit Factor: 1.84\n",
      "Win Day Ratio: 40.51%\n",
      "Total Trade Count: 483\n",
      "Avg. Daily Trade Count: 1.37\n"
     ]
    }
   ],
   "source": [
    "# Calculate performance metrics\n",
    "final_equity = equity_curve[-1]\n",
    "total_return = (final_equity - initial_capital) / initial_capital\n",
    "annualized_return = (1 + total_return) ** (252 / len(df.index)) - 1\n",
    "annualized_sharpe_ratio = np.sqrt(252) * np.mean(return_list) / np.std(return_list)\n",
    "profit_factor = sum([x for x in pnl_list if x > 0]) / abs(sum([x for x in pnl_list if x < 0]))\n",
    "win_day_ratio = 100 * len([x for x in pnl_list if x > 0]) / len(pnl_list)\n",
    "\n",
    "# Print performance metrics\n",
    "print(f\"Period: {df.index[0].date()} - {df.index[-1].date()}, {len(df.index)} trading days\")\n",
    "print(f\"Initial Equity: ${initial_capital:.0f}\")\n",
    "print(f\"Final Equity: ${final_equity:.0f}\")\n",
    "print(f\"Total Rate of Return: {total_return * 100:.2f}%\")\n",
    "print(f\"Annualized Rate of Return: {annualized_return * 100:.2f}%\")\n",
    "print(f\"Annualized Sharpe Ratio: {annualized_sharpe_ratio:.2f}\")\n",
    "print(f\"Profit Factor: {profit_factor:.2f}\")\n",
    "print(f\"Win Day Ratio: {win_day_ratio:.2f}%\")\n",
    "print(f\"Total Trade Count: {total_trade_count}\")\n",
    "print(f\"Avg. Daily Trade Count: {total_trade_count / len(df.index) :.2f}\")"
   ]
  },
  {
   "cell_type": "code",
   "execution_count": 194,
   "id": "c35a47a1-7708-45ab-b3db-817d581df38e",
   "metadata": {},
   "outputs": [
    {
     "name": "stdout",
     "output_type": "stream",
     "text": [
      "Monthly Average Trade Value: 9850728.99\n",
      "Monthly Turnover Ratio Est.: 8.02\n"
     ]
    }
   ],
   "source": [
    "monthly_trade_value = (total_trade_value / len(df.index)) * (252 / 12)\n",
    "\n",
    "print(f\"Monthly Average Trade Value: {monthly_trade_value:.2f}\")\n",
    "print(f\"Monthly Turnover Ratio Est.: {monthly_trade_value / ((initial_capital+final_equity) / 2):.2f}\")"
   ]
  },
  {
   "cell_type": "code",
   "execution_count": 195,
   "id": "3d5ef142-f8db-472a-a5b6-a92041fe3412",
   "metadata": {},
   "outputs": [
    {
     "name": "stdout",
     "output_type": "stream",
     "text": [
      "Median Position Size: 149100.00\n",
      "Max Position Size: 441000.00\n",
      "Min Position Size: 5990.00\n",
      "Median Position Share: 5000.00\n",
      "Max Position Share: 48000.00\n",
      "Min Position Share: 1000.00\n",
      "Error Check: 0.00\n"
     ]
    }
   ],
   "source": [
    "print(f'Median Position Size: {np.median(position_value_list):.2f}')\n",
    "print(f'Max Position Size: {np.max(position_value_list):.2f}')\n",
    "print(f'Min Position Size: {np.min(position_value_list):.2f}')\n",
    "print(f'Median Position Share: {np.median(position_share_list):.2f}')\n",
    "print(f'Max Position Share: {np.max(position_share_list):.2f}')\n",
    "print(f'Min Position Share: {np.min(position_share_list):.2f}')\n",
    "print(f'Error Check: {np.sum([x % 1000 for x in position_share_list]):.2f}')"
   ]
  },
  {
   "cell_type": "markdown",
   "id": "fbf72dc9-0b17-421b-8026-0a8c11171e60",
   "metadata": {},
   "source": [
    "## Visualization"
   ]
  },
  {
   "cell_type": "code",
   "execution_count": 196,
   "id": "126f96b0-efe9-4bd1-ae52-bbf5751ff8bd",
   "metadata": {},
   "outputs": [
    {
     "name": "stdout",
     "output_type": "stream",
     "text": [
      "[*********************100%%**********************]  1 of 1 completed\n"
     ]
    }
   ],
   "source": [
    "import yfinance as yf\n",
    "\n",
    "# Load benchmark\n",
    "index_df = yf.download(['0050.TW'], start=df.index[0], end=df.index[-1], progress=True)"
   ]
  },
  {
   "cell_type": "code",
   "execution_count": 197,
   "id": "643733ff-d5e9-41e0-9660-335c29592d8a",
   "metadata": {},
   "outputs": [
    {
     "data": {
      "image/png": "[encoded data removed]",
      "text/plain": [
       "<Figure size 1600x800 with 1 Axes>"
      ]
     },
     "metadata": {},
     "output_type": "display_data"
    }
   ],
   "source": [
    "import matplotlib.pyplot as plt\n",
    "\n",
    "# Plot equity curve\n",
    "plt.figure(figsize=(16, 8))\n",
    "plt.plot(df.index[:-1], [((x / initial_capital) - 1) * 100 for x in equity_curve[2:]], label=\"Strategy\")\n",
    "plt.plot(index_df.index, [x * 100 for x in (index_df['Adj Close'] / index_df['Adj Close'].iloc[0] - 1)], label=\"0050\", color='red')\n",
    "plt.title('Equity Curve (Percent)')\n",
    "plt.xlabel('Date')\n",
    "plt.ylabel('Returns (Percent)')\n",
    "plt.legend()\n",
    "plt.show()"
   ]
  },
  {
   "cell_type": "code",
   "execution_count": 20,
   "id": "cde705a7-9633-4c13-a278-9915832ea9de",
   "metadata": {},
   "outputs": [],
   "source": [
    "# plt.figure(figsize=(16, 8))\n",
    "# plt.plot(range(len(fund_available_list)), [a / b for a, b in zip(fund_available_list, equity_curve[:-1])])\n",
    "# plt.show()"
   ]
  },
  {
   "cell_type": "code",
   "execution_count": 21,
   "id": "228d7f94-2592-48e7-9f52-3a0a2dd8b93b",
   "metadata": {},
   "outputs": [],
   "source": [
    "# plt.hist([a / b for a, b in zip(fund_available_list, equity_curve[:-1])], bins=50, edgecolor='k')\n",
    "# plt.xlabel('Value')\n",
    "# plt.ylabel('Frequency')\n",
    "# plt.title('Histogram of Data')\n",
    "# plt.show()"
   ]
  },
  {
   "cell_type": "code",
   "execution_count": null,
   "id": "f6f140e6-9b8a-42c5-b15d-48937380dc5c",
   "metadata": {},
   "outputs": [],
   "source": []
  }
 ],
 "metadata": {
  "kernelspec": {
   "display_name": "Python 3 (ipykernel)",
   "language": "python",
   "name": "python3"
  },
  "language_info": {
   "codemirror_mode": {
    "name": "ipython",
    "version": 3
   },
   "file_extension": ".py",
   "mimetype": "text/x-python",
   "name": "python",
   "nbconvert_exporter": "python",
   "pygments_lexer": "ipython3",
   "version": "3.10.11"
  }
 },
 "nbformat": 4,
 "nbformat_minor": 5
}
