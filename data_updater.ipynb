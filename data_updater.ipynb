{
 "cells": [
  {
   "cell_type": "markdown",
   "id": "296b57d9-f5f3-4822-be76-a874a4340c9f",
   "metadata": {},
   "source": [
    "# Update Stock Historical Price/Volume Database"
   ]
  },
  {
   "cell_type": "markdown",
   "id": "51e73ad2-a2a4-4499-a1aa-3f123fc7196f",
   "metadata": {},
   "source": [
    "## 資料檔案設定"
   ]
  },
  {
   "cell_type": "code",
   "execution_count": 1,
   "id": "2e12478c-9573-4cef-9c86-79be268343f6",
   "metadata": {},
   "outputs": [],
   "source": [
    "data_filepath = 'data/data.feather'  # .feather 儲存格式"
   ]
  },
  {
   "cell_type": "markdown",
   "id": "6b0a0679-a309-4239-ad9c-70ae230151ea",
   "metadata": {},
   "source": [
    "## 程式執行"
   ]
  },
  {
   "cell_type": "markdown",
   "id": "5c21e3bb-b6f4-433e-9ada-134666bf0a42",
   "metadata": {},
   "source": [
    "### 套件設定"
   ]
  },
  {
   "cell_type": "code",
   "execution_count": 2,
   "id": "2c0c7777-4f26-4a16-bf88-e511ba756900",
   "metadata": {},
   "outputs": [],
   "source": [
    "import os\n",
    "import pandas as pd\n",
    "import yfinance as yf\n",
    "from getStockList import get_stock_symbols\n",
    "from requests import Session\n",
    "from requests_cache import CacheMixin, SQLiteCache\n",
    "from requests_ratelimiter import LimiterSession, LimiterMixin, MemoryQueueBucket\n",
    "from pyrate_limiter import Duration, RequestRate, Limiter\n",
    "import datetime\n",
    "import pytz"
   ]
  },
  {
   "cell_type": "code",
   "execution_count": 3,
   "id": "d07e2675-e448-4cbd-9913-f5db59e669ad",
   "metadata": {},
   "outputs": [],
   "source": [
    "# Rate limiter and cached\n",
    "class CachedLimiterSession(CacheMixin, LimiterMixin, Session):\n",
    "    pass\n",
    "\n",
    "# start a cached session\n",
    "session = CachedLimiterSession(\n",
    "    limiter=Limiter(RequestRate(10, Duration.SECOND*2)),\n",
    "    bucket_class=MemoryQueueBucket,\n",
    "    backend=SQLiteCache(\"requests.cache\"),\n",
    ")"
   ]
  },
  {
   "cell_type": "markdown",
   "id": "9392cb54-8d7a-4107-b392-fae2a5a70f77",
   "metadata": {},
   "source": [
    "### 載入資料"
   ]
  },
  {
   "cell_type": "code",
   "execution_count": 4,
   "id": "4ccd6e59-01c7-4e1f-a151-0f8d7b6c48c5",
   "metadata": {},
   "outputs": [
    {
     "data": {
      "text/html": [
       "<div>\n",
       "<style scoped>\n",
       "    .dataframe tbody tr th:only-of-type {\n",
       "        vertical-align: middle;\n",
       "    }\n",
       "\n",
       "    .dataframe tbody tr th {\n",
       "        vertical-align: top;\n",
       "    }\n",
       "\n",
       "    .dataframe thead th {\n",
       "        text-align: right;\n",
       "    }\n",
       "</style>\n",
       "<table border=\"1\" class=\"dataframe\">\n",
       "  <thead>\n",
       "    <tr style=\"text-align: right;\">\n",
       "      <th></th>\n",
       "      <th>symbol</th>\n",
       "      <th>name</th>\n",
       "      <th>market</th>\n",
       "      <th>industry</th>\n",
       "      <th>yf_symbol</th>\n",
       "    </tr>\n",
       "  </thead>\n",
       "  <tbody>\n",
       "    <tr>\n",
       "      <th>0</th>\n",
       "      <td>1101</td>\n",
       "      <td>台泥</td>\n",
       "      <td>上市</td>\n",
       "      <td>水泥工業</td>\n",
       "      <td>1101.TW</td>\n",
       "    </tr>\n",
       "    <tr>\n",
       "      <th>1</th>\n",
       "      <td>1102</td>\n",
       "      <td>亞泥</td>\n",
       "      <td>上市</td>\n",
       "      <td>水泥工業</td>\n",
       "      <td>1102.TW</td>\n",
       "    </tr>\n",
       "    <tr>\n",
       "      <th>2</th>\n",
       "      <td>1103</td>\n",
       "      <td>嘉泥</td>\n",
       "      <td>上市</td>\n",
       "      <td>水泥工業</td>\n",
       "      <td>1103.TW</td>\n",
       "    </tr>\n",
       "    <tr>\n",
       "      <th>3</th>\n",
       "      <td>1104</td>\n",
       "      <td>環泥</td>\n",
       "      <td>上市</td>\n",
       "      <td>水泥工業</td>\n",
       "      <td>1104.TW</td>\n",
       "    </tr>\n",
       "    <tr>\n",
       "      <th>4</th>\n",
       "      <td>1108</td>\n",
       "      <td>幸福</td>\n",
       "      <td>上市</td>\n",
       "      <td>水泥工業</td>\n",
       "      <td>1108.TW</td>\n",
       "    </tr>\n",
       "    <tr>\n",
       "      <th>...</th>\n",
       "      <td>...</td>\n",
       "      <td>...</td>\n",
       "      <td>...</td>\n",
       "      <td>...</td>\n",
       "      <td>...</td>\n",
       "    </tr>\n",
       "    <tr>\n",
       "      <th>1796</th>\n",
       "      <td>9949</td>\n",
       "      <td>琉園</td>\n",
       "      <td>上櫃</td>\n",
       "      <td>文化創意業</td>\n",
       "      <td>9949.TWO</td>\n",
       "    </tr>\n",
       "    <tr>\n",
       "      <th>1797</th>\n",
       "      <td>9950</td>\n",
       "      <td>萬國通</td>\n",
       "      <td>上櫃</td>\n",
       "      <td>塑膠工業</td>\n",
       "      <td>9950.TWO</td>\n",
       "    </tr>\n",
       "    <tr>\n",
       "      <th>1798</th>\n",
       "      <td>9951</td>\n",
       "      <td>皇田</td>\n",
       "      <td>上櫃</td>\n",
       "      <td>電機機械</td>\n",
       "      <td>9951.TWO</td>\n",
       "    </tr>\n",
       "    <tr>\n",
       "      <th>1799</th>\n",
       "      <td>9960</td>\n",
       "      <td>邁達康</td>\n",
       "      <td>上櫃</td>\n",
       "      <td>運動休閒</td>\n",
       "      <td>9960.TWO</td>\n",
       "    </tr>\n",
       "    <tr>\n",
       "      <th>1800</th>\n",
       "      <td>9962</td>\n",
       "      <td>有益</td>\n",
       "      <td>上櫃</td>\n",
       "      <td>鋼鐵工業</td>\n",
       "      <td>9962.TWO</td>\n",
       "    </tr>\n",
       "  </tbody>\n",
       "</table>\n",
       "<p>1801 rows × 5 columns</p>\n",
       "</div>"
      ],
      "text/plain": [
       "     symbol name market industry yf_symbol\n",
       "0      1101   台泥     上市     水泥工業   1101.TW\n",
       "1      1102   亞泥     上市     水泥工業   1102.TW\n",
       "2      1103   嘉泥     上市     水泥工業   1103.TW\n",
       "3      1104   環泥     上市     水泥工業   1104.TW\n",
       "4      1108   幸福     上市     水泥工業   1108.TW\n",
       "...     ...  ...    ...      ...       ...\n",
       "1796   9949   琉園     上櫃    文化創意業  9949.TWO\n",
       "1797   9950  萬國通     上櫃     塑膠工業  9950.TWO\n",
       "1798   9951   皇田     上櫃     電機機械  9951.TWO\n",
       "1799   9960  邁達康     上櫃     運動休閒  9960.TWO\n",
       "1800   9962   有益     上櫃     鋼鐵工業  9962.TWO\n",
       "\n",
       "[1801 rows x 5 columns]"
      ]
     },
     "execution_count": 4,
     "metadata": {},
     "output_type": "execute_result"
    }
   ],
   "source": [
    "# Get stock list\n",
    "stock_symbol_df = get_stock_symbols()\n",
    "\n",
    "stock_symbol_df  # Inspect stock symbol df"
   ]
  },
  {
   "cell_type": "code",
   "execution_count": 12,
   "id": "d408bfec-bd70-4692-925c-32bfbb555c0e",
   "metadata": {},
   "outputs": [],
   "source": [
    "# LOAD DATA ##################\n",
    "directory, filename = os.path.split(data_filepath)\n",
    "\n",
    "# Check if the directory exists\n",
    "if not os.path.exists(directory):\n",
    "    # If not, create the directory\n",
    "    os.makedirs(directory)\n",
    "    print(f\"Directory '{directory}' created.\")\n",
    "\n",
    "# load data\n",
    "if os.path.exists(data_filepath):\n",
    "    data_df = pd.read_feather(data_filepath)\n",
    "    \n",
    "else:  # Data file does not exist, download it from Yahoo Finance\n",
    "    print('No current data file found, start to download')\n",
    "    \n",
    "    # Get stock symbols\n",
    "    symbols = stock_symbol_df['yf_symbol'].to_list()\n",
    "\n",
    "    # Download data\n",
    "    data_df = yf.download(symbols, session=session, period=\"10y\", progress=True)\n",
    "\n",
    "\n",
    "# Sort date in acending order\n",
    "data_df.sort_index(ascending=True, inplace=True)"
   ]
  },
  {
   "cell_type": "markdown",
   "id": "3c0fe2d3-4de7-4350-b8eb-4bb66b3d4d33",
   "metadata": {},
   "source": [
    "### 清理資料"
   ]
  },
  {
   "cell_type": "code",
   "execution_count": 14,
   "id": "01b226f3-2a30-4218-a86a-3e2c178af8dc",
   "metadata": {},
   "outputs": [
    {
     "data": {
      "application/vnd.jupyter.widget-view+json": {
       "model_id": "21d3296889954a4f900fc5eeded2848c",
       "version_major": 2,
       "version_minor": 0
      },
      "text/plain": [
       "  0%|          | 0/1801 [00:00<?, ?it/s]"
      ]
     },
     "metadata": {},
     "output_type": "display_data"
    },
    {
     "name": "stdout",
     "output_type": "stream",
     "text": [
      "symbol\n",
      "symbol\n",
      "symbol\n",
      "symbol\n",
      "symbol\n",
      "symbol\n",
      "symbol\n",
      "symbol\n",
      "symbol\n",
      "symbol\n",
      "symbol\n",
      "symbol\n",
      "symbol\n",
      "symbol\n",
      "symbol\n",
      "symbol\n",
      "symbol\n",
      "symbol\n",
      "symbol\n",
      "symbol\n"
     ]
    }
   ],
   "source": [
    "from tqdm.notebook import tqdm\n",
    "import numpy as np\n",
    "\n",
    "# Extract all the stock symbols from the MultiIndex\n",
    "stock_symbols = data_df.columns.get_level_values(1)\n",
    "stock_symbols = set(stock_symbols.to_list())\n",
    "\n",
    "# Get the last row of data_df\n",
    "last_row = data_df.iloc[-1]\n",
    "\n",
    "# Remove symbol that do not have meaningful content\n",
    "symbols_to_remove = []\n",
    "\n",
    "for symbol in tqdm(stock_symbols):\n",
    "    check_list = []\n",
    "    check_list.append(last_row['Open'][symbol])\n",
    "    check_list.append(last_row['High'][symbol])\n",
    "    check_list.append(last_row['Low'][symbol])\n",
    "    check_list.append(last_row['Close'][symbol])\n",
    "    check_list.append(last_row['Adj Close'][symbol])\n",
    "    check_list.append(last_row['Volume'][symbol])\n",
    "\n",
    "    if np.any(np.isnan(check_list)):\n",
    "        symbols_to_remove.append(symbol)\n",
    "\n",
    "# Create a boolean mask for columns that should not be removed\n",
    "mask = ~data_df.columns.get_level_values(1).isin(symbols_to_remove)\n",
    "\n",
    "# Use the mask to filter the columns\n",
    "data_df = data_df.loc[:, mask]"
   ]
  },
  {
   "cell_type": "markdown",
   "id": "99d8497b-9f09-4917-9e60-4e533aaa3b97",
   "metadata": {},
   "source": [
    "### 更新資料"
   ]
  },
  {
   "cell_type": "code",
   "execution_count": 17,
   "id": "c6c86b06-e259-4e97-be23-9d2d5b4b97b6",
   "metadata": {},
   "outputs": [],
   "source": [
    "# Get date information\n",
    "now = datetime.datetime.now(tz=pytz.timezone('Asia/Taipei'))\n",
    "date_today = now.date()\n",
    "last_day_data = data_df.index[-1].date()"
   ]
  },
  {
   "cell_type": "code",
   "execution_count": 18,
   "id": "c80a73b7-90fb-4976-b74d-7ff8c5ff8f90",
   "metadata": {},
   "outputs": [
    {
     "data": {
      "text/plain": [
       "datetime.date(2023, 11, 11)"
      ]
     },
     "execution_count": 18,
     "metadata": {},
     "output_type": "execute_result"
    }
   ],
   "source": [
    "date_today + datetime.timedelta(days=1)"
   ]
  },
  {
   "cell_type": "code",
   "execution_count": 19,
   "id": "6d0ee71f-dddc-4c1f-bc7e-31a007250fde",
   "metadata": {},
   "outputs": [
    {
     "name": "stdout",
     "output_type": "stream",
     "text": [
      "Last three days of the data: [Timestamp('2023-11-08 00:00:00'), Timestamp('2023-11-09 00:00:00'), Timestamp('2023-11-10 00:00:00')]\n"
     ]
    }
   ],
   "source": [
    "if date_today > last_day_data:\n",
    "    # The target day for data update\n",
    "    target_day = date_today if now.time() > datetime.time(15, 00) else date_today + datetime.timedelta(days=-1)\n",
    "    start_day = last_day_data #+ datetime.timedelta(days=1)\n",
    "    end_day = target_day + datetime.timedelta(days=1)\n",
    "\n",
    "    if start_day <= target_day:\n",
    "       \n",
    "        update_data_df = yf.download(['2330.TW'], start=start_day.strftime('%Y-%m-%d'), end=end_day.strftime('%Y-%m-%d'), progress=False)  # For test run\n",
    "\n",
    "        # Update the data df and save to file\n",
    "        if len(update_data_df.index) > 0:  # Double-check new data is available\n",
    "            symbols = stock_symbol_df['yf_symbol'].to_list()\n",
    "            update_data_df = yf.download(symbols, start=start_day.strftime('%Y-%m-%d'), end=end_day.strftime('%Y-%m-%d'), progress=True)\n",
    "            data_df = pd.concat([data_df, update_data_df])\n",
    "            data_df.to_feather(data_filepath)\n",
    "        else:\n",
    "            print('New data is not available. Maybe try later.')\n",
    "    else:\n",
    "        print('No update')\n",
    "\n",
    "print(f'Last three days of the data: {data_df.tail(3).index.to_list()}')"
   ]
  },
  {
   "cell_type": "code",
   "execution_count": 20,
   "id": "0e2e6a5d-336d-4e70-bc3c-db4e72443df7",
   "metadata": {},
   "outputs": [],
   "source": [
    "# Remove duplicate dates just in case\n",
    "data_df = data_df.reset_index().drop_duplicates(subset=[('Date', '')], keep='first').set_index('Date')\n",
    "data_df.to_feather(data_filepath)"
   ]
  },
  {
   "cell_type": "code",
   "execution_count": null,
   "id": "0da47ea9-8ea6-4166-8789-de1b64cff6cd",
   "metadata": {},
   "outputs": [],
   "source": []
  }
 ],
 "metadata": {
  "kernelspec": {
   "display_name": "Python 3 (ipykernel)",
   "language": "python",
   "name": "python3"
  },
  "language_info": {
   "codemirror_mode": {
    "name": "ipython",
    "version": 3
   },
   "file_extension": ".py",
   "mimetype": "text/x-python",
   "name": "python",
   "nbconvert_exporter": "python",
   "pygments_lexer": "ipython3",
   "version": "3.10.11"
  },
  "widgets": {
   "application/vnd.jupyter.widget-state+json": {
    "state": {
     "25a0fd1a91b44f038ae2fce9cbdde2fd": {
      "model_module": "@jupyter-widgets/controls",
      "model_module_version": "2.0.0",
      "model_name": "HTMLModel",
      "state": {
       "_dom_classes": [],
       "_model_module": "@jupyter-widgets/controls",
       "_model_module_version": "2.0.0",
       "_model_name": "HTMLModel",
       "_view_count": null,
       "_view_module": "@jupyter-widgets/controls",
       "_view_module_version": "2.0.0",
       "_view_name": "HTMLView",
       "description": "",
       "description_allow_html": false,
       "layout": "IPY_MODEL_f09a4f2cbffc40258bcba1717ac02579",
       "placeholder": "​",
       "style": "IPY_MODEL_263d564f0008452b8d375dac1f2dffc1",
       "tabbable": null,
       "tooltip": null,
       "value": "100%"
      }
     },
     "26216c81662640918c676959d86d4051": {
      "model_module": "@jupyter-widgets/controls",
      "model_module_version": "2.0.0",
      "model_name": "HTMLModel",
      "state": {
       "_dom_classes": [],
       "_model_module": "@jupyter-widgets/controls",
       "_model_module_version": "2.0.0",
       "_model_name": "HTMLModel",
       "_view_count": null,
       "_view_module": "@jupyter-widgets/controls",
       "_view_module_version": "2.0.0",
       "_view_name": "HTMLView",
       "description": "",
       "description_allow_html": false,
       "layout": "IPY_MODEL_a6322a0126464e8cad3897d61a28fa0d",
       "placeholder": "​",
       "style": "IPY_MODEL_a85245e703f34aa98dd33767175c8026",
       "tabbable": null,
       "tooltip": null,
       "value": " 1782/1782 [00:02&lt;00:00, 648.86it/s]"
      }
     },
     "263d564f0008452b8d375dac1f2dffc1": {
      "model_module": "@jupyter-widgets/controls",
      "model_module_version": "2.0.0",
      "model_name": "HTMLStyleModel",
      "state": {
       "_model_module": "@jupyter-widgets/controls",
       "_model_module_version": "2.0.0",
       "_model_name": "HTMLStyleModel",
       "_view_count": null,
       "_view_module": "@jupyter-widgets/base",
       "_view_module_version": "2.0.0",
       "_view_name": "StyleView",
       "background": null,
       "description_width": "",
       "font_size": null,
       "text_color": null
      }
     },
     "57476212e45644ab957cc73a3fb70119": {
      "model_module": "@jupyter-widgets/base",
      "model_module_version": "2.0.0",
      "model_name": "LayoutModel",
      "state": {
       "_model_module": "@jupyter-widgets/base",
       "_model_module_version": "2.0.0",
       "_model_name": "LayoutModel",
       "_view_count": null,
       "_view_module": "@jupyter-widgets/base",
       "_view_module_version": "2.0.0",
       "_view_name": "LayoutView",
       "align_content": null,
       "align_items": null,
       "align_self": null,
       "border_bottom": null,
       "border_left": null,
       "border_right": null,
       "border_top": null,
       "bottom": null,
       "display": null,
       "flex": null,
       "flex_flow": null,
       "grid_area": null,
       "grid_auto_columns": null,
       "grid_auto_flow": null,
       "grid_auto_rows": null,
       "grid_column": null,
       "grid_gap": null,
       "grid_row": null,
       "grid_template_areas": null,
       "grid_template_columns": null,
       "grid_template_rows": null,
       "height": null,
       "justify_content": null,
       "justify_items": null,
       "left": null,
       "margin": null,
       "max_height": null,
       "max_width": null,
       "min_height": null,
       "min_width": null,
       "object_fit": null,
       "object_position": null,
       "order": null,
       "overflow": null,
       "padding": null,
       "right": null,
       "top": null,
       "visibility": null,
       "width": null
      }
     },
     "6ab2f74623e340969c49d35d2ef8bd71": {
      "model_module": "@jupyter-widgets/controls",
      "model_module_version": "2.0.0",
      "model_name": "HBoxModel",
      "state": {
       "_dom_classes": [],
       "_model_module": "@jupyter-widgets/controls",
       "_model_module_version": "2.0.0",
       "_model_name": "HBoxModel",
       "_view_count": null,
       "_view_module": "@jupyter-widgets/controls",
       "_view_module_version": "2.0.0",
       "_view_name": "HBoxView",
       "box_style": "",
       "children": [
        "IPY_MODEL_25a0fd1a91b44f038ae2fce9cbdde2fd",
        "IPY_MODEL_a439a23baa264e21b6d90eeb8f974ca1",
        "IPY_MODEL_26216c81662640918c676959d86d4051"
       ],
       "layout": "IPY_MODEL_de615499b0714ff08bf0a667d984c8df",
       "tabbable": null,
       "tooltip": null
      }
     },
     "9761881d95d1469a84a078cc12f8925a": {
      "model_module": "@jupyter-widgets/controls",
      "model_module_version": "2.0.0",
      "model_name": "ProgressStyleModel",
      "state": {
       "_model_module": "@jupyter-widgets/controls",
       "_model_module_version": "2.0.0",
       "_model_name": "ProgressStyleModel",
       "_view_count": null,
       "_view_module": "@jupyter-widgets/base",
       "_view_module_version": "2.0.0",
       "_view_name": "StyleView",
       "bar_color": null,
       "description_width": ""
      }
     },
     "a439a23baa264e21b6d90eeb8f974ca1": {
      "model_module": "@jupyter-widgets/controls",
      "model_module_version": "2.0.0",
      "model_name": "FloatProgressModel",
      "state": {
       "_dom_classes": [],
       "_model_module": "@jupyter-widgets/controls",
       "_model_module_version": "2.0.0",
       "_model_name": "FloatProgressModel",
       "_view_count": null,
       "_view_module": "@jupyter-widgets/controls",
       "_view_module_version": "2.0.0",
       "_view_name": "ProgressView",
       "bar_style": "success",
       "description": "",
       "description_allow_html": false,
       "layout": "IPY_MODEL_57476212e45644ab957cc73a3fb70119",
       "max": 1782,
       "min": 0,
       "orientation": "horizontal",
       "style": "IPY_MODEL_9761881d95d1469a84a078cc12f8925a",
       "tabbable": null,
       "tooltip": null,
       "value": 1782
      }
     },
     "a6322a0126464e8cad3897d61a28fa0d": {
      "model_module": "@jupyter-widgets/base",
      "model_module_version": "2.0.0",
      "model_name": "LayoutModel",
      "state": {
       "_model_module": "@jupyter-widgets/base",
       "_model_module_version": "2.0.0",
       "_model_name": "LayoutModel",
       "_view_count": null,
       "_view_module": "@jupyter-widgets/base",
       "_view_module_version": "2.0.0",
       "_view_name": "LayoutView",
       "align_content": null,
       "align_items": null,
       "align_self": null,
       "border_bottom": null,
       "border_left": null,
       "border_right": null,
       "border_top": null,
       "bottom": null,
       "display": null,
       "flex": null,
       "flex_flow": null,
       "grid_area": null,
       "grid_auto_columns": null,
       "grid_auto_flow": null,
       "grid_auto_rows": null,
       "grid_column": null,
       "grid_gap": null,
       "grid_row": null,
       "grid_template_areas": null,
       "grid_template_columns": null,
       "grid_template_rows": null,
       "height": null,
       "justify_content": null,
       "justify_items": null,
       "left": null,
       "margin": null,
       "max_height": null,
       "max_width": null,
       "min_height": null,
       "min_width": null,
       "object_fit": null,
       "object_position": null,
       "order": null,
       "overflow": null,
       "padding": null,
       "right": null,
       "top": null,
       "visibility": null,
       "width": null
      }
     },
     "a85245e703f34aa98dd33767175c8026": {
      "model_module": "@jupyter-widgets/controls",
      "model_module_version": "2.0.0",
      "model_name": "HTMLStyleModel",
      "state": {
       "_model_module": "@jupyter-widgets/controls",
       "_model_module_version": "2.0.0",
       "_model_name": "HTMLStyleModel",
       "_view_count": null,
       "_view_module": "@jupyter-widgets/base",
       "_view_module_version": "2.0.0",
       "_view_name": "StyleView",
       "background": null,
       "description_width": "",
       "font_size": null,
       "text_color": null
      }
     },
     "de615499b0714ff08bf0a667d984c8df": {
      "model_module": "@jupyter-widgets/base",
      "model_module_version": "2.0.0",
      "model_name": "LayoutModel",
      "state": {
       "_model_module": "@jupyter-widgets/base",
       "_model_module_version": "2.0.0",
       "_model_name": "LayoutModel",
       "_view_count": null,
       "_view_module": "@jupyter-widgets/base",
       "_view_module_version": "2.0.0",
       "_view_name": "LayoutView",
       "align_content": null,
       "align_items": null,
       "align_self": null,
       "border_bottom": null,
       "border_left": null,
       "border_right": null,
       "border_top": null,
       "bottom": null,
       "display": null,
       "flex": null,
       "flex_flow": null,
       "grid_area": null,
       "grid_auto_columns": null,
       "grid_auto_flow": null,
       "grid_auto_rows": null,
       "grid_column": null,
       "grid_gap": null,
       "grid_row": null,
       "grid_template_areas": null,
       "grid_template_columns": null,
       "grid_template_rows": null,
       "height": null,
       "justify_content": null,
       "justify_items": null,
       "left": null,
       "margin": null,
       "max_height": null,
       "max_width": null,
       "min_height": null,
       "min_width": null,
       "object_fit": null,
       "object_position": null,
       "order": null,
       "overflow": null,
       "padding": null,
       "right": null,
       "top": null,
       "visibility": null,
       "width": null
      }
     },
     "f09a4f2cbffc40258bcba1717ac02579": {
      "model_module": "@jupyter-widgets/base",
      "model_module_version": "2.0.0",
      "model_name": "LayoutModel",
      "state": {
       "_model_module": "@jupyter-widgets/base",
       "_model_module_version": "2.0.0",
       "_model_name": "LayoutModel",
       "_view_count": null,
       "_view_module": "@jupyter-widgets/base",
       "_view_module_version": "2.0.0",
       "_view_name": "LayoutView",
       "align_content": null,
       "align_items": null,
       "align_self": null,
       "border_bottom": null,
       "border_left": null,
       "border_right": null,
       "border_top": null,
       "bottom": null,
       "display": null,
       "flex": null,
       "flex_flow": null,
       "grid_area": null,
       "grid_auto_columns": null,
       "grid_auto_flow": null,
       "grid_auto_rows": null,
       "grid_column": null,
       "grid_gap": null,
       "grid_row": null,
       "grid_template_areas": null,
       "grid_template_columns": null,
       "grid_template_rows": null,
       "height": null,
       "justify_content": null,
       "justify_items": null,
       "left": null,
       "margin": null,
       "max_height": null,
       "max_width": null,
       "min_height": null,
       "min_width": null,
       "object_fit": null,
       "object_position": null,
       "order": null,
       "overflow": null,
       "padding": null,
       "right": null,
       "top": null,
       "visibility": null,
       "width": null
      }
     }
    },
    "version_major": 2,
    "version_minor": 0
   }
  }
 },
 "nbformat": 4,
 "nbformat_minor": 5
}
