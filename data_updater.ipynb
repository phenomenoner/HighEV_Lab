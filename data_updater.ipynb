{
 "cells": [
  {
   "cell_type": "markdown",
   "id": "296b57d9-f5f3-4822-be76-a874a4340c9f",
   "metadata": {},
   "source": [
    "# Update Stock Historical Price/Volume Database"
   ]
  },
  {
   "cell_type": "markdown",
   "id": "51e73ad2-a2a4-4499-a1aa-3f123fc7196f",
   "metadata": {},
   "source": [
    "## 資料檔案設定"
   ]
  },
  {
   "cell_type": "code",
   "execution_count": 1,
   "id": "2e12478c-9573-4cef-9c86-79be268343f6",
   "metadata": {
    "execution": {
     "iopub.execute_input": "2023-11-08T07:02:37.265334Z",
     "iopub.status.busy": "2023-11-08T07:02:37.264360Z",
     "iopub.status.idle": "2023-11-08T07:02:37.279420Z",
     "shell.execute_reply": "2023-11-08T07:02:37.278397Z"
    }
   },
   "outputs": [],
   "source": [
    "data_filepath = 'data/data.feather'  # .feather 儲存格式"
   ]
  },
  {
   "cell_type": "markdown",
   "id": "6b0a0679-a309-4239-ad9c-70ae230151ea",
   "metadata": {},
   "source": [
    "## 程式執行"
   ]
  },
  {
   "cell_type": "markdown",
   "id": "5c21e3bb-b6f4-433e-9ada-134666bf0a42",
   "metadata": {},
   "source": [
    "### 套件設定"
   ]
  },
  {
   "cell_type": "code",
   "execution_count": 2,
   "id": "2c0c7777-4f26-4a16-bf88-e511ba756900",
   "metadata": {
    "execution": {
     "iopub.execute_input": "2023-11-08T07:02:37.283417Z",
     "iopub.status.busy": "2023-11-08T07:02:37.283417Z",
     "iopub.status.idle": "2023-11-08T07:02:48.159311Z",
     "shell.execute_reply": "2023-11-08T07:02:48.156270Z"
    }
   },
   "outputs": [],
   "source": [
    "import os\n",
    "import pandas as pd\n",
    "import yfinance as yf\n",
    "from getStockList import get_stock_symbols\n",
    "from requests import Session\n",
    "from requests_cache import CacheMixin, SQLiteCache\n",
    "from requests_ratelimiter import LimiterSession, LimiterMixin, MemoryQueueBucket\n",
    "from pyrate_limiter import Duration, RequestRate, Limiter\n",
    "import datetime\n",
    "import pytz"
   ]
  },
  {
   "cell_type": "code",
   "execution_count": 3,
   "id": "d07e2675-e448-4cbd-9913-f5db59e669ad",
   "metadata": {
    "execution": {
     "iopub.execute_input": "2023-11-08T07:02:48.167314Z",
     "iopub.status.busy": "2023-11-08T07:02:48.166315Z",
     "iopub.status.idle": "2023-11-08T07:02:48.188744Z",
     "shell.execute_reply": "2023-11-08T07:02:48.187771Z"
    }
   },
   "outputs": [],
   "source": [
    "# Rate limiter and cached\n",
    "class CachedLimiterSession(CacheMixin, LimiterMixin, Session):\n",
    "    pass\n",
    "\n",
    "# start a cached session\n",
    "session = CachedLimiterSession(\n",
    "    limiter=Limiter(RequestRate(10, Duration.SECOND*2)),\n",
    "    bucket_class=MemoryQueueBucket,\n",
    "    backend=SQLiteCache(\"requests.cache\"),\n",
    ")"
   ]
  },
  {
   "cell_type": "markdown",
   "id": "9392cb54-8d7a-4107-b392-fae2a5a70f77",
   "metadata": {},
   "source": [
    "### 載入資料"
   ]
  },
  {
   "cell_type": "code",
   "execution_count": 4,
   "id": "4ccd6e59-01c7-4e1f-a151-0f8d7b6c48c5",
   "metadata": {
    "execution": {
     "iopub.execute_input": "2023-11-08T07:02:48.195735Z",
     "iopub.status.busy": "2023-11-08T07:02:48.194735Z",
     "iopub.status.idle": "2023-11-08T07:03:39.467417Z",
     "shell.execute_reply": "2023-11-08T07:03:39.466423Z"
    }
   },
   "outputs": [
    {
     "data": {
      "text/html": [
       "<div>\n",
       "<style scoped>\n",
       "    .dataframe tbody tr th:only-of-type {\n",
       "        vertical-align: middle;\n",
       "    }\n",
       "\n",
       "    .dataframe tbody tr th {\n",
       "        vertical-align: top;\n",
       "    }\n",
       "\n",
       "    .dataframe thead th {\n",
       "        text-align: right;\n",
       "    }\n",
       "</style>\n",
       "<table border=\"1\" class=\"dataframe\">\n",
       "  <thead>\n",
       "    <tr style=\"text-align: right;\">\n",
       "      <th></th>\n",
       "      <th>symbol</th>\n",
       "      <th>name</th>\n",
       "      <th>market</th>\n",
       "      <th>industry</th>\n",
       "      <th>yf_symbol</th>\n",
       "    </tr>\n",
       "  </thead>\n",
       "  <tbody>\n",
       "    <tr>\n",
       "      <th>0</th>\n",
       "      <td>1101</td>\n",
       "      <td>台泥</td>\n",
       "      <td>上市</td>\n",
       "      <td>水泥工業</td>\n",
       "      <td>1101.TW</td>\n",
       "    </tr>\n",
       "    <tr>\n",
       "      <th>1</th>\n",
       "      <td>1102</td>\n",
       "      <td>亞泥</td>\n",
       "      <td>上市</td>\n",
       "      <td>水泥工業</td>\n",
       "      <td>1102.TW</td>\n",
       "    </tr>\n",
       "    <tr>\n",
       "      <th>2</th>\n",
       "      <td>1103</td>\n",
       "      <td>嘉泥</td>\n",
       "      <td>上市</td>\n",
       "      <td>水泥工業</td>\n",
       "      <td>1103.TW</td>\n",
       "    </tr>\n",
       "    <tr>\n",
       "      <th>3</th>\n",
       "      <td>1104</td>\n",
       "      <td>環泥</td>\n",
       "      <td>上市</td>\n",
       "      <td>水泥工業</td>\n",
       "      <td>1104.TW</td>\n",
       "    </tr>\n",
       "    <tr>\n",
       "      <th>4</th>\n",
       "      <td>1108</td>\n",
       "      <td>幸福</td>\n",
       "      <td>上市</td>\n",
       "      <td>水泥工業</td>\n",
       "      <td>1108.TW</td>\n",
       "    </tr>\n",
       "    <tr>\n",
       "      <th>...</th>\n",
       "      <td>...</td>\n",
       "      <td>...</td>\n",
       "      <td>...</td>\n",
       "      <td>...</td>\n",
       "      <td>...</td>\n",
       "    </tr>\n",
       "    <tr>\n",
       "      <th>1794</th>\n",
       "      <td>9949</td>\n",
       "      <td>琉園</td>\n",
       "      <td>上櫃</td>\n",
       "      <td>文化創意業</td>\n",
       "      <td>9949.TWO</td>\n",
       "    </tr>\n",
       "    <tr>\n",
       "      <th>1795</th>\n",
       "      <td>9950</td>\n",
       "      <td>萬國通</td>\n",
       "      <td>上櫃</td>\n",
       "      <td>塑膠工業</td>\n",
       "      <td>9950.TWO</td>\n",
       "    </tr>\n",
       "    <tr>\n",
       "      <th>1796</th>\n",
       "      <td>9951</td>\n",
       "      <td>皇田</td>\n",
       "      <td>上櫃</td>\n",
       "      <td>電機機械</td>\n",
       "      <td>9951.TWO</td>\n",
       "    </tr>\n",
       "    <tr>\n",
       "      <th>1797</th>\n",
       "      <td>9960</td>\n",
       "      <td>邁達康</td>\n",
       "      <td>上櫃</td>\n",
       "      <td>運動休閒</td>\n",
       "      <td>9960.TWO</td>\n",
       "    </tr>\n",
       "    <tr>\n",
       "      <th>1798</th>\n",
       "      <td>9962</td>\n",
       "      <td>有益</td>\n",
       "      <td>上櫃</td>\n",
       "      <td>鋼鐵工業</td>\n",
       "      <td>9962.TWO</td>\n",
       "    </tr>\n",
       "  </tbody>\n",
       "</table>\n",
       "<p>1799 rows × 5 columns</p>\n",
       "</div>"
      ],
      "text/plain": [
       "     symbol name market industry yf_symbol\n",
       "0      1101   台泥     上市     水泥工業   1101.TW\n",
       "1      1102   亞泥     上市     水泥工業   1102.TW\n",
       "2      1103   嘉泥     上市     水泥工業   1103.TW\n",
       "3      1104   環泥     上市     水泥工業   1104.TW\n",
       "4      1108   幸福     上市     水泥工業   1108.TW\n",
       "...     ...  ...    ...      ...       ...\n",
       "1794   9949   琉園     上櫃    文化創意業  9949.TWO\n",
       "1795   9950  萬國通     上櫃     塑膠工業  9950.TWO\n",
       "1796   9951   皇田     上櫃     電機機械  9951.TWO\n",
       "1797   9960  邁達康     上櫃     運動休閒  9960.TWO\n",
       "1798   9962   有益     上櫃     鋼鐵工業  9962.TWO\n",
       "\n",
       "[1799 rows x 5 columns]"
      ]
     },
     "execution_count": 4,
     "metadata": {},
     "output_type": "execute_result"
    }
   ],
   "source": [
    "# Get stock list\n",
    "stock_symbol_df = get_stock_symbols()\n",
    "\n",
    "stock_symbol_df  # Inspect stock symbol df"
   ]
  },
  {
   "cell_type": "code",
   "execution_count": 5,
   "id": "d408bfec-bd70-4692-925c-32bfbb555c0e",
   "metadata": {
    "execution": {
     "iopub.execute_input": "2023-11-08T07:03:39.471467Z",
     "iopub.status.busy": "2023-11-08T07:03:39.470419Z",
     "iopub.status.idle": "2023-11-08T07:03:41.164731Z",
     "shell.execute_reply": "2023-11-08T07:03:41.162715Z"
    }
   },
   "outputs": [],
   "source": [
    "# LOAD DATA ##################\n",
    "directory, filename = os.path.split(data_filepath)\n",
    "\n",
    "# Check if the directory exists\n",
    "if not os.path.exists(directory):\n",
    "    # If not, create the directory\n",
    "    os.makedirs(directory)\n",
    "    print(f\"Directory '{directory}' created.\")\n",
    "\n",
    "# load data\n",
    "if os.path.exists(data_filepath):\n",
    "    data_df = pd.read_feather(data_filepath)\n",
    "    \n",
    "else:  # Data file does not exist, download it from Yahoo Finance\n",
    "    print('No current data file found, start to download')\n",
    "    \n",
    "    # Get stock symbols\n",
    "    symbols = stock_symbol_df['yf_symbol'].to_list()\n",
    "\n",
    "    # Download data\n",
    "    data_df = yf.download(symbols, session=session, period=\"10y\", progress=True)\n",
    "\n",
    "    # Save data\n",
    "    data_df.to_feather(data_filepath)"
   ]
  },
  {
   "cell_type": "code",
   "execution_count": 6,
   "id": "9ba82121-a72c-4c87-a216-7813a8d2c754",
   "metadata": {
    "execution": {
     "iopub.execute_input": "2023-11-08T07:03:41.170727Z",
     "iopub.status.busy": "2023-11-08T07:03:41.169799Z",
     "iopub.status.idle": "2023-11-08T07:03:41.223723Z",
     "shell.execute_reply": "2023-11-08T07:03:41.223165Z"
    }
   },
   "outputs": [
    {
     "data": {
      "text/html": [
       "<div>\n",
       "<style scoped>\n",
       "    .dataframe tbody tr th:only-of-type {\n",
       "        vertical-align: middle;\n",
       "    }\n",
       "\n",
       "    .dataframe tbody tr th {\n",
       "        vertical-align: top;\n",
       "    }\n",
       "\n",
       "    .dataframe thead tr th {\n",
       "        text-align: left;\n",
       "    }\n",
       "\n",
       "    .dataframe thead tr:last-of-type th {\n",
       "        text-align: right;\n",
       "    }\n",
       "</style>\n",
       "<table border=\"1\" class=\"dataframe\">\n",
       "  <thead>\n",
       "    <tr>\n",
       "      <th></th>\n",
       "      <th colspan=\"10\" halign=\"left\">Adj Close</th>\n",
       "      <th>...</th>\n",
       "      <th colspan=\"2\" halign=\"left\">Open</th>\n",
       "      <th colspan=\"2\" halign=\"left\">Volume</th>\n",
       "      <th>Adj Close</th>\n",
       "      <th>Close</th>\n",
       "      <th>High</th>\n",
       "      <th>Low</th>\n",
       "      <th>Open</th>\n",
       "      <th>Volume</th>\n",
       "    </tr>\n",
       "    <tr>\n",
       "      <th></th>\n",
       "      <th>1101.TW</th>\n",
       "      <th>1102.TW</th>\n",
       "      <th>1103.TW</th>\n",
       "      <th>1104.TW</th>\n",
       "      <th>1108.TW</th>\n",
       "      <th>1109.TW</th>\n",
       "      <th>1110.TW</th>\n",
       "      <th>1201.TW</th>\n",
       "      <th>1203.TW</th>\n",
       "      <th>1210.TW</th>\n",
       "      <th>...</th>\n",
       "      <th>6856.TWO</th>\n",
       "      <th>8476.TW</th>\n",
       "      <th>6856.TWO</th>\n",
       "      <th>8476.TW</th>\n",
       "      <th>6658.TW</th>\n",
       "      <th>6658.TW</th>\n",
       "      <th>6658.TW</th>\n",
       "      <th>6658.TW</th>\n",
       "      <th>6658.TW</th>\n",
       "      <th>6658.TW</th>\n",
       "    </tr>\n",
       "    <tr>\n",
       "      <th>Date</th>\n",
       "      <th></th>\n",
       "      <th></th>\n",
       "      <th></th>\n",
       "      <th></th>\n",
       "      <th></th>\n",
       "      <th></th>\n",
       "      <th></th>\n",
       "      <th></th>\n",
       "      <th></th>\n",
       "      <th></th>\n",
       "      <th></th>\n",
       "      <th></th>\n",
       "      <th></th>\n",
       "      <th></th>\n",
       "      <th></th>\n",
       "      <th></th>\n",
       "      <th></th>\n",
       "      <th></th>\n",
       "      <th></th>\n",
       "      <th></th>\n",
       "      <th></th>\n",
       "    </tr>\n",
       "  </thead>\n",
       "  <tbody>\n",
       "    <tr>\n",
       "      <th>2023-11-01</th>\n",
       "      <td>32.099998</td>\n",
       "      <td>40.000000</td>\n",
       "      <td>17.900000</td>\n",
       "      <td>25.850000</td>\n",
       "      <td>13.60</td>\n",
       "      <td>17.450001</td>\n",
       "      <td>18.150000</td>\n",
       "      <td>18.450001</td>\n",
       "      <td>42.400002</td>\n",
       "      <td>51.900002</td>\n",
       "      <td>...</td>\n",
       "      <td>75.800003</td>\n",
       "      <td>63.500000</td>\n",
       "      <td>137336.0</td>\n",
       "      <td>42085.0</td>\n",
       "      <td>NaN</td>\n",
       "      <td>NaN</td>\n",
       "      <td>NaN</td>\n",
       "      <td>NaN</td>\n",
       "      <td>NaN</td>\n",
       "      <td>NaN</td>\n",
       "    </tr>\n",
       "    <tr>\n",
       "      <th>2023-11-02</th>\n",
       "      <td>32.349998</td>\n",
       "      <td>40.000000</td>\n",
       "      <td>17.950001</td>\n",
       "      <td>26.049999</td>\n",
       "      <td>13.95</td>\n",
       "      <td>17.650000</td>\n",
       "      <td>18.350000</td>\n",
       "      <td>18.500000</td>\n",
       "      <td>42.250000</td>\n",
       "      <td>52.099998</td>\n",
       "      <td>...</td>\n",
       "      <td>74.900002</td>\n",
       "      <td>62.400002</td>\n",
       "      <td>92515.0</td>\n",
       "      <td>62695.0</td>\n",
       "      <td>40.000000</td>\n",
       "      <td>40.000000</td>\n",
       "      <td>41.000000</td>\n",
       "      <td>38.150002</td>\n",
       "      <td>39.200001</td>\n",
       "      <td>1102324.0</td>\n",
       "    </tr>\n",
       "    <tr>\n",
       "      <th>2023-11-03</th>\n",
       "      <td>32.900002</td>\n",
       "      <td>40.250000</td>\n",
       "      <td>18.150000</td>\n",
       "      <td>26.150000</td>\n",
       "      <td>13.90</td>\n",
       "      <td>17.700001</td>\n",
       "      <td>18.350000</td>\n",
       "      <td>18.600000</td>\n",
       "      <td>42.099998</td>\n",
       "      <td>52.500000</td>\n",
       "      <td>...</td>\n",
       "      <td>74.800003</td>\n",
       "      <td>62.400002</td>\n",
       "      <td>87691.0</td>\n",
       "      <td>23654.0</td>\n",
       "      <td>NaN</td>\n",
       "      <td>NaN</td>\n",
       "      <td>NaN</td>\n",
       "      <td>NaN</td>\n",
       "      <td>NaN</td>\n",
       "      <td>NaN</td>\n",
       "    </tr>\n",
       "    <tr>\n",
       "      <th>2023-11-06</th>\n",
       "      <td>32.799999</td>\n",
       "      <td>40.400002</td>\n",
       "      <td>18.400000</td>\n",
       "      <td>26.350000</td>\n",
       "      <td>13.90</td>\n",
       "      <td>17.750000</td>\n",
       "      <td>18.400000</td>\n",
       "      <td>18.650000</td>\n",
       "      <td>43.250000</td>\n",
       "      <td>52.799999</td>\n",
       "      <td>...</td>\n",
       "      <td>72.000000</td>\n",
       "      <td>61.599998</td>\n",
       "      <td>65948.0</td>\n",
       "      <td>41410.0</td>\n",
       "      <td>39.000000</td>\n",
       "      <td>39.000000</td>\n",
       "      <td>39.500000</td>\n",
       "      <td>38.599998</td>\n",
       "      <td>39.150002</td>\n",
       "      <td>269875.0</td>\n",
       "    </tr>\n",
       "    <tr>\n",
       "      <th>2023-11-07</th>\n",
       "      <td>32.549999</td>\n",
       "      <td>40.400002</td>\n",
       "      <td>18.299999</td>\n",
       "      <td>26.250000</td>\n",
       "      <td>13.90</td>\n",
       "      <td>17.750000</td>\n",
       "      <td>18.450001</td>\n",
       "      <td>18.799999</td>\n",
       "      <td>42.599998</td>\n",
       "      <td>52.799999</td>\n",
       "      <td>...</td>\n",
       "      <td>72.500000</td>\n",
       "      <td>61.299999</td>\n",
       "      <td>52159.0</td>\n",
       "      <td>59738.0</td>\n",
       "      <td>39.049999</td>\n",
       "      <td>39.049999</td>\n",
       "      <td>39.299999</td>\n",
       "      <td>38.650002</td>\n",
       "      <td>39.000000</td>\n",
       "      <td>143680.0</td>\n",
       "    </tr>\n",
       "  </tbody>\n",
       "</table>\n",
       "<p>5 rows × 10806 columns</p>\n",
       "</div>"
      ],
      "text/plain": [
       "            Adj Close                                                      \\\n",
       "              1101.TW    1102.TW    1103.TW    1104.TW 1108.TW    1109.TW   \n",
       "Date                                                                        \n",
       "2023-11-01  32.099998  40.000000  17.900000  25.850000   13.60  17.450001   \n",
       "2023-11-02  32.349998  40.000000  17.950001  26.049999   13.95  17.650000   \n",
       "2023-11-03  32.900002  40.250000  18.150000  26.150000   13.90  17.700001   \n",
       "2023-11-06  32.799999  40.400002  18.400000  26.350000   13.90  17.750000   \n",
       "2023-11-07  32.549999  40.400002  18.299999  26.250000   13.90  17.750000   \n",
       "\n",
       "                                                        ...       Open  \\\n",
       "              1110.TW    1201.TW    1203.TW    1210.TW  ...   6856.TWO   \n",
       "Date                                                    ...              \n",
       "2023-11-01  18.150000  18.450001  42.400002  51.900002  ...  75.800003   \n",
       "2023-11-02  18.350000  18.500000  42.250000  52.099998  ...  74.900002   \n",
       "2023-11-03  18.350000  18.600000  42.099998  52.500000  ...  74.800003   \n",
       "2023-11-06  18.400000  18.650000  43.250000  52.799999  ...  72.000000   \n",
       "2023-11-07  18.450001  18.799999  42.599998  52.799999  ...  72.500000   \n",
       "\n",
       "                         Volume           Adj Close      Close       High  \\\n",
       "              8476.TW  6856.TWO  8476.TW    6658.TW    6658.TW    6658.TW   \n",
       "Date                                                                        \n",
       "2023-11-01  63.500000  137336.0  42085.0        NaN        NaN        NaN   \n",
       "2023-11-02  62.400002   92515.0  62695.0  40.000000  40.000000  41.000000   \n",
       "2023-11-03  62.400002   87691.0  23654.0        NaN        NaN        NaN   \n",
       "2023-11-06  61.599998   65948.0  41410.0  39.000000  39.000000  39.500000   \n",
       "2023-11-07  61.299999   52159.0  59738.0  39.049999  39.049999  39.299999   \n",
       "\n",
       "                  Low       Open     Volume  \n",
       "              6658.TW    6658.TW    6658.TW  \n",
       "Date                                         \n",
       "2023-11-01        NaN        NaN        NaN  \n",
       "2023-11-02  38.150002  39.200001  1102324.0  \n",
       "2023-11-03        NaN        NaN        NaN  \n",
       "2023-11-06  38.599998  39.150002   269875.0  \n",
       "2023-11-07  38.650002  39.000000   143680.0  \n",
       "\n",
       "[5 rows x 10806 columns]"
      ]
     },
     "execution_count": 6,
     "metadata": {},
     "output_type": "execute_result"
    }
   ],
   "source": [
    "data_df.tail()  # Inspect data df"
   ]
  },
  {
   "cell_type": "markdown",
   "id": "99d8497b-9f09-4917-9e60-4e533aaa3b97",
   "metadata": {},
   "source": [
    "### 更新資料"
   ]
  },
  {
   "cell_type": "code",
   "execution_count": 7,
   "id": "c6c86b06-e259-4e97-be23-9d2d5b4b97b6",
   "metadata": {
    "execution": {
     "iopub.execute_input": "2023-11-08T07:03:41.227778Z",
     "iopub.status.busy": "2023-11-08T07:03:41.227778Z",
     "iopub.status.idle": "2023-11-08T07:03:41.374982Z",
     "shell.execute_reply": "2023-11-08T07:03:41.373981Z"
    }
   },
   "outputs": [],
   "source": [
    "# Get date information\n",
    "now = datetime.datetime.now(tz=pytz.timezone('Asia/Taipei'))\n",
    "date_today = now.date()\n",
    "last_day_data = data_df.index[-1].date()"
   ]
  },
  {
   "cell_type": "code",
   "execution_count": 8,
   "id": "c80a73b7-90fb-4976-b74d-7ff8c5ff8f90",
   "metadata": {
    "execution": {
     "iopub.execute_input": "2023-11-08T07:03:41.378994Z",
     "iopub.status.busy": "2023-11-08T07:03:41.378994Z",
     "iopub.status.idle": "2023-11-08T07:03:41.390076Z",
     "shell.execute_reply": "2023-11-08T07:03:41.389336Z"
    }
   },
   "outputs": [
    {
     "data": {
      "text/plain": [
       "datetime.date(2023, 11, 9)"
      ]
     },
     "execution_count": 8,
     "metadata": {},
     "output_type": "execute_result"
    }
   ],
   "source": [
    "date_today + datetime.timedelta(days=1)"
   ]
  },
  {
   "cell_type": "code",
   "execution_count": 9,
   "id": "6d0ee71f-dddc-4c1f-bc7e-31a007250fde",
   "metadata": {
    "execution": {
     "iopub.execute_input": "2023-11-08T07:03:41.393110Z",
     "iopub.status.busy": "2023-11-08T07:03:41.393110Z",
     "iopub.status.idle": "2023-11-08T07:05:39.567095Z",
     "shell.execute_reply": "2023-11-08T07:05:39.566354Z"
    }
   },
   "outputs": [
    {
     "name": "stdout",
     "output_type": "stream",
     "text": [
      "[*********************100%%**********************]  1799 of 1799 completed"
     ]
    },
    {
     "name": "stderr",
     "output_type": "stream",
     "text": [
      "\n",
      "4 Failed downloads:\n",
      "['8423.TWO', '2740.TWO', '3089.TWO', '8080.TWO']: Exception('%ticker%: No price data found, symbol may be delisted (1d 2023-11-07 -> 2023-11-09)')\n"
     ]
    },
    {
     "name": "stdout",
     "output_type": "stream",
     "text": [
      "\n",
      "Last three days of the data: [Timestamp('2023-11-06 00:00:00'), Timestamp('2023-11-07 00:00:00'), Timestamp('2023-11-08 00:00:00')]\n"
     ]
    }
   ],
   "source": [
    "if date_today > last_day_data:\n",
    "    # The target day for data update\n",
    "    target_day = date_today if now.time() > datetime.time(15, 00) else date_today + datetime.timedelta(days=-1)\n",
    "    start_day = last_day_data #+ datetime.timedelta(days=1)\n",
    "    end_day = target_day + datetime.timedelta(days=1)\n",
    "\n",
    "    if start_day <= target_day:\n",
    "       \n",
    "        update_data_df = yf.download(['2330.TW'], start=start_day.strftime('%Y-%m-%d'), end=end_day.strftime('%Y-%m-%d'), progress=False)  # For test run\n",
    "\n",
    "        # Update the data df and save to file\n",
    "        if len(update_data_df.index) > 0:  # Double-check new data is available\n",
    "            symbols = stock_symbol_df['yf_symbol'].to_list()\n",
    "            update_data_df = yf.download(symbols, start=start_day.strftime('%Y-%m-%d'), end=end_day.strftime('%Y-%m-%d'), progress=True)\n",
    "            data_df = pd.concat([data_df, update_data_df])\n",
    "            data_df.to_feather(data_filepath)\n",
    "        else:\n",
    "            print('New data is not available. Maybe try later.')\n",
    "    else:\n",
    "        print('No update')\n",
    "\n",
    "print(f'Last three days of the data: {data_df.tail(3).index.to_list()}')"
   ]
  },
  {
   "cell_type": "code",
   "execution_count": 10,
   "id": "0e2e6a5d-336d-4e70-bc3c-db4e72443df7",
   "metadata": {
    "execution": {
     "iopub.execute_input": "2023-11-08T07:05:39.571150Z",
     "iopub.status.busy": "2023-11-08T07:05:39.571150Z",
     "iopub.status.idle": "2023-11-08T07:05:46.517054Z",
     "shell.execute_reply": "2023-11-08T07:05:46.516031Z"
    }
   },
   "outputs": [],
   "source": [
    "# Remove duplicate dates just in case\n",
    "data_df = data_df.reset_index().drop_duplicates(subset=[('Date', '')], keep='first').set_index('Date')\n",
    "data_df.to_feather(data_filepath)"
   ]
  },
  {
   "cell_type": "code",
   "execution_count": null,
   "id": "0da47ea9-8ea6-4166-8789-de1b64cff6cd",
   "metadata": {},
   "outputs": [],
   "source": []
  }
 ],
 "metadata": {
  "kernelspec": {
   "display_name": "Python 3 (ipykernel)",
   "language": "python",
   "name": "python3"
  },
  "language_info": {
   "codemirror_mode": {
    "name": "ipython",
    "version": 3
   },
   "file_extension": ".py",
   "mimetype": "text/x-python",
   "name": "python",
   "nbconvert_exporter": "python",
   "pygments_lexer": "ipython3",
   "version": "3.10.11"
  }
 },
 "nbformat": 4,
 "nbformat_minor": 5
}
